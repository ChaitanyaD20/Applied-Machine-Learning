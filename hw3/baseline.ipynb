{
 "cells": [
  {
   "cell_type": "code",
   "execution_count": 14,
   "metadata": {
    "id": "f5YUvxfGqgHh"
   },
   "outputs": [],
   "source": [
    "import torch\n",
    "from torch import nn\n",
    "from torch.utils.data import DataLoader\n",
    "import torch.nn.functional as F\n",
    "\n",
    "from torchvision import datasets\n",
    "from torchvision.transforms import ToTensor, Lambda, Compose\n",
    "import matplotlib.pyplot as plt\n",
    "\n",
    "import torch\n",
    "import torchvision\n",
    "import torchvision.transforms as transforms\n",
    "\n",
    "import numpy as np\n",
    "import matplotlib.pyplot as plt\n",
    "\n",
    "import torch.utils.data\n",
    "from torch.autograd import Variable"
   ]
  },
  {
   "cell_type": "markdown",
   "metadata": {
    "id": "WJseNkhHrCTk"
   },
   "source": [
    "# Load the data"
   ]
  },
  {
   "cell_type": "code",
   "execution_count": 15,
   "metadata": {
    "id": "S_VR--hOrtoN"
   },
   "outputs": [],
   "source": [
    "training_data = datasets.MNIST(\n",
    "    root=\"data\",\n",
    "    train=True,\n",
    "    download=True,\n",
    "    transform=ToTensor(),\n",
    ")\n",
    "\n",
    "test_data = datasets.MNIST(\n",
    "    root=\"data\",\n",
    "    train=False,\n",
    "    download=True,\n",
    "    transform=ToTensor(),\n",
    ")"
   ]
  },
  {
   "cell_type": "code",
   "execution_count": 16,
   "metadata": {
    "colab": {
     "base_uri": "https://localhost:8080/",
     "height": 319
    },
    "id": "xyjBip7xsQX9",
    "outputId": "eaff0d33-9f68-4c28-b5c6-874c7cb4dd84"
   },
   "outputs": [
    {
     "name": "stdout",
     "output_type": "stream",
     "text": [
      "Shape of X [N, C, H, W]:  torch.Size([64, 1, 28, 28])\n",
      "Shape of y:  torch.Size([64]) torch.int64\n"
     ]
    },
    {
     "data": {
      "image/png": "[encoded data removed]",
      "text/plain": [
       "<Figure size 432x288 with 1 Axes>"
      ]
     },
     "metadata": {
      "needs_background": "light",
      "tags": []
     },
     "output_type": "display_data"
    },
    {
     "name": "stdout",
     "output_type": "stream",
     "text": [
      "displaying a 7\n"
     ]
    }
   ],
   "source": [
    "batch_size = 64\n",
    "\n",
    "# Create data loaders.\n",
    "train_dataloader = DataLoader(training_data, batch_size=batch_size)\n",
    "test_dataloader = DataLoader(test_data, batch_size=batch_size)\n",
    "\n",
    "for X, y in test_dataloader:\n",
    "    print(\"Shape of X [N, C, H, W]: \", X.shape)\n",
    "    print(\"Shape of y: \", y.shape, y.dtype)\n",
    "\n",
    "\n",
    "    plt.imshow(X[0][0].numpy())\n",
    "    plt.show()\n",
    "    print(f'displaying a {y[0]}')\n",
    "    break"
   ]
  },
  {
   "cell_type": "markdown",
   "metadata": {
    "id": "9Lzg-3J0rHoe"
   },
   "source": [
    "# Define the baseline model"
   ]
  },
  {
   "cell_type": "markdown",
   "metadata": {
    "id": "jf2UTQtKrOaK"
   },
   "source": [
    "The baseline system should use the following: Glorot initialization, ReLU activations, mini-batch\n",
    "stochastic gradient descent with momentum (β = 0.9), model selection and a cross-entropy loss\n",
    "function. Use a learning rate scheduler to adjust the learning rate by 10% every 10 epochs, starting\n",
    "with a learning rate of 0.05"
   ]
  },
  {
   "cell_type": "code",
   "execution_count": 100,
   "metadata": {
    "colab": {
     "base_uri": "https://localhost:8080/"
    },
    "id": "ltY1QsepsXpX",
    "outputId": "d37fdaff-e11f-40d0-b0fe-c4f66a8ea6dd"
   },
   "outputs": [
    {
     "name": "stdout",
     "output_type": "stream",
     "text": [
      "Using cuda device\n",
      "BaselineCNN(\n",
      "  (conv1): Conv2d(1, 12, kernel_size=(8, 8), stride=(1, 1))\n",
      "  (conv2): Conv2d(12, 12, kernel_size=(8, 8), stride=(1, 1))\n",
      "  (fc1): Linear(in_features=588, out_features=30, bias=True)\n",
      "  (fc2): Linear(in_features=30, out_features=10, bias=True)\n",
      ")\n"
     ]
    },
    {
     "name": "stderr",
     "output_type": "stream",
     "text": [
      "/usr/local/lib/python3.7/dist-packages/ipykernel_launcher.py:33: UserWarning: nn.init.xavier_uniform is now deprecated in favor of nn.init.xavier_uniform_.\n",
      "/usr/local/lib/python3.7/dist-packages/ipykernel_launcher.py:34: UserWarning: nn.init.xavier_uniform is now deprecated in favor of nn.init.xavier_uniform_.\n",
      "/usr/local/lib/python3.7/dist-packages/ipykernel_launcher.py:35: UserWarning: nn.init.xavier_uniform is now deprecated in favor of nn.init.xavier_uniform_.\n",
      "/usr/local/lib/python3.7/dist-packages/ipykernel_launcher.py:36: UserWarning: nn.init.xavier_uniform is now deprecated in favor of nn.init.xavier_uniform_.\n"
     ]
    }
   ],
   "source": [
    "device = \"cuda\" if torch.cuda.is_available() else \"cpu\"\n",
    "print(\"Using {} device\".format(device))\n",
    "\n",
    "class BaselineCNN(nn.Module):\n",
    "    def __init__(self):\n",
    "        super(BaselineCNN, self).__init__()\n",
    "        self.conv1 = nn.Conv2d(1, 12, kernel_size=8)\n",
    "        self.conv2 = nn.Conv2d(12, 12, kernel_size=8)\n",
    "        self.fc1 = nn.Linear(7*7*12, 30)\n",
    "        self.fc2 = nn.Linear(30, 10)\n",
    "\n",
    "        torch.nn.init.xavier_uniform(self.conv1.weight)\n",
    "        torch.nn.init.xavier_uniform(self.conv2.weight)\n",
    "        torch.nn.init.xavier_uniform(self.fc1.weight)\n",
    "        torch.nn.init.xavier_uniform(self.fc2.weight)\n",
    "\n",
    "    def forward(self, x):\n",
    "        x = F.relu(self.conv1(x))\n",
    "        x = F.relu(F.max_pool2d(self.conv2(x), 2))\n",
    "        x = x.view(-1,7*7*12)\n",
    "        x = F.relu(self.fc1(x))\n",
    "        x = self.fc2(x)\n",
    "        return F.log_softmax(x, dim=1)\n",
    "\n",
    "model = BaselineCNN().to(device)\n",
    "print(model)\n",
    "\n",
    "loss_fn = nn.CrossEntropyLoss()\n",
    "optimizer = torch.optim.SGD(model.parameters(), lr=0.05, momentum=0.9)\n",
    "\n",
    "from torch.optim.lr_scheduler import StepLR\n",
    "scheduler = StepLR(optimizer, step_size=10, gamma=0.1)"
   ]
  },
  {
   "cell_type": "markdown",
   "metadata": {
    "id": "7LnKOMwIrffD"
   },
   "source": [
    "Training loop is based on https://pytorch.org/tutorials/beginner/basics/quickstart_tutorial.html"
   ]
  },
  {
   "cell_type": "code",
   "execution_count": 101,
   "metadata": {
    "colab": {
     "base_uri": "https://localhost:8080/"
    },
    "id": "i93kxL6UEdp_",
    "outputId": "8766e874-2e2d-4355-bbd3-82a9e8245f39"
   },
   "outputs": [
    {
     "name": "stdout",
     "output_type": "stream",
     "text": [
      "Epoch 1\n",
      "-------------------------------\n",
      "loss: 2.286559  [    0/60000]\n",
      "loss: 0.221038  [ 6400/60000]\n",
      "loss: 0.283953  [12800/60000]\n",
      "loss: 0.459599  [19200/60000]\n",
      "loss: 0.179627  [25600/60000]\n",
      "loss: 0.195077  [32000/60000]\n",
      "loss: 0.078064  [38400/60000]\n",
      "loss: 0.090254  [44800/60000]\n",
      "loss: 0.368524  [51200/60000]\n",
      "loss: 0.131794  [57600/60000]\n",
      "Test Error: \n",
      " Accuracy: 96.1%, Avg loss: 0.002000 \n",
      "\n",
      "Epoch 2\n",
      "-------------------------------\n",
      "loss: 0.129695  [    0/60000]\n",
      "loss: 0.124944  [ 6400/60000]\n",
      "loss: 0.105213  [12800/60000]\n",
      "loss: 0.133065  [19200/60000]\n",
      "loss: 0.013133  [25600/60000]\n",
      "loss: 0.106078  [32000/60000]\n",
      "loss: 0.050019  [38400/60000]\n",
      "loss: 0.049517  [44800/60000]\n",
      "loss: 0.206208  [51200/60000]\n",
      "loss: 0.065369  [57600/60000]\n",
      "Test Error: \n",
      " Accuracy: 96.2%, Avg loss: 0.001904 \n",
      "\n",
      "Epoch 3\n",
      "-------------------------------\n",
      "loss: 0.098093  [    0/60000]\n",
      "loss: 0.107061  [ 6400/60000]\n",
      "loss: 0.056817  [12800/60000]\n",
      "loss: 0.054821  [19200/60000]\n",
      "loss: 0.006914  [25600/60000]\n",
      "loss: 0.090062  [32000/60000]\n",
      "loss: 0.018581  [38400/60000]\n",
      "loss: 0.031229  [44800/60000]\n",
      "loss: 0.252369  [51200/60000]\n",
      "loss: 0.099889  [57600/60000]\n",
      "Test Error: \n",
      " Accuracy: 97.5%, Avg loss: 0.001349 \n",
      "\n",
      "Epoch 4\n",
      "-------------------------------\n",
      "loss: 0.020767  [    0/60000]\n",
      "loss: 0.051110  [ 6400/60000]\n",
      "loss: 0.113808  [12800/60000]\n",
      "loss: 0.067584  [19200/60000]\n",
      "loss: 0.038574  [25600/60000]\n",
      "loss: 0.085328  [32000/60000]\n",
      "loss: 0.039689  [38400/60000]\n",
      "loss: 0.022842  [44800/60000]\n",
      "loss: 0.179524  [51200/60000]\n",
      "loss: 0.094674  [57600/60000]\n",
      "Test Error: \n",
      " Accuracy: 98.0%, Avg loss: 0.001101 \n",
      "\n",
      "Epoch 5\n",
      "-------------------------------\n",
      "loss: 0.027605  [    0/60000]\n",
      "loss: 0.110333  [ 6400/60000]\n",
      "loss: 0.046414  [12800/60000]\n",
      "loss: 0.130860  [19200/60000]\n",
      "loss: 0.025995  [25600/60000]\n",
      "loss: 0.052291  [32000/60000]\n",
      "loss: 0.007074  [38400/60000]\n",
      "loss: 0.023882  [44800/60000]\n",
      "loss: 0.189387  [51200/60000]\n",
      "loss: 0.052288  [57600/60000]\n",
      "Test Error: \n",
      " Accuracy: 97.8%, Avg loss: 0.001270 \n",
      "\n",
      "Epoch 6\n",
      "-------------------------------\n",
      "loss: 0.003227  [    0/60000]\n",
      "loss: 0.045334  [ 6400/60000]\n",
      "loss: 0.177966  [12800/60000]\n",
      "loss: 0.088675  [19200/60000]\n",
      "loss: 0.006545  [25600/60000]\n",
      "loss: 0.027132  [32000/60000]\n",
      "loss: 0.008060  [38400/60000]\n",
      "loss: 0.108357  [44800/60000]\n",
      "loss: 0.069618  [51200/60000]\n",
      "loss: 0.027678  [57600/60000]\n",
      "Test Error: \n",
      " Accuracy: 97.9%, Avg loss: 0.001343 \n",
      "\n",
      "Epoch 7\n",
      "-------------------------------\n",
      "loss: 0.000923  [    0/60000]\n",
      "loss: 0.054238  [ 6400/60000]\n",
      "loss: 0.118182  [12800/60000]\n",
      "loss: 0.011619  [19200/60000]\n",
      "loss: 0.004642  [25600/60000]\n",
      "loss: 0.057236  [32000/60000]\n",
      "loss: 0.058010  [38400/60000]\n",
      "loss: 0.044558  [44800/60000]\n",
      "loss: 0.198962  [51200/60000]\n",
      "loss: 0.139272  [57600/60000]\n",
      "Test Error: \n",
      " Accuracy: 97.6%, Avg loss: 0.001512 \n",
      "\n",
      "Epoch 8\n",
      "-------------------------------\n",
      "loss: 0.012242  [    0/60000]\n",
      "loss: 0.074026  [ 6400/60000]\n",
      "loss: 0.156022  [12800/60000]\n",
      "loss: 0.017871  [19200/60000]\n",
      "loss: 0.012597  [25600/60000]\n",
      "loss: 0.034943  [32000/60000]\n",
      "loss: 0.024951  [38400/60000]\n",
      "loss: 0.042768  [44800/60000]\n",
      "loss: 0.134877  [51200/60000]\n",
      "loss: 0.064736  [57600/60000]\n",
      "Test Error: \n",
      " Accuracy: 98.0%, Avg loss: 0.001208 \n",
      "\n",
      "Epoch 9\n",
      "-------------------------------\n",
      "loss: 0.017536  [    0/60000]\n",
      "loss: 0.280010  [ 6400/60000]\n",
      "loss: 0.067200  [12800/60000]\n",
      "loss: 0.024862  [19200/60000]\n",
      "loss: 0.024494  [25600/60000]\n",
      "loss: 0.041588  [32000/60000]\n",
      "loss: 0.002676  [38400/60000]\n",
      "loss: 0.012360  [44800/60000]\n",
      "loss: 0.195963  [51200/60000]\n",
      "loss: 0.040204  [57600/60000]\n",
      "Test Error: \n",
      " Accuracy: 97.8%, Avg loss: 0.001286 \n",
      "\n",
      "Epoch 10\n",
      "-------------------------------\n",
      "loss: 0.014373  [    0/60000]\n",
      "loss: 0.003795  [ 6400/60000]\n",
      "loss: 0.021035  [12800/60000]\n",
      "loss: 0.016271  [19200/60000]\n",
      "loss: 0.003150  [25600/60000]\n",
      "loss: 0.010046  [32000/60000]\n",
      "loss: 0.003947  [38400/60000]\n",
      "loss: 0.077883  [44800/60000]\n",
      "loss: 0.252126  [51200/60000]\n",
      "loss: 0.067433  [57600/60000]\n",
      "Test Error: \n",
      " Accuracy: 98.0%, Avg loss: 0.001257 \n",
      "\n",
      "Epoch 11\n",
      "-------------------------------\n",
      "loss: 0.002558  [    0/60000]\n",
      "loss: 0.009552  [ 6400/60000]\n",
      "loss: 0.005218  [12800/60000]\n",
      "loss: 0.001682  [19200/60000]\n",
      "loss: 0.003683  [25600/60000]\n",
      "loss: 0.001955  [32000/60000]\n",
      "loss: 0.009491  [38400/60000]\n",
      "loss: 0.008595  [44800/60000]\n",
      "loss: 0.169524  [51200/60000]\n",
      "loss: 0.005367  [57600/60000]\n",
      "Test Error: \n",
      " Accuracy: 98.6%, Avg loss: 0.000804 \n",
      "\n",
      "Epoch 12\n",
      "-------------------------------\n",
      "loss: 0.000694  [    0/60000]\n",
      "loss: 0.002208  [ 6400/60000]\n",
      "loss: 0.002744  [12800/60000]\n",
      "loss: 0.000987  [19200/60000]\n",
      "loss: 0.004190  [25600/60000]\n",
      "loss: 0.001442  [32000/60000]\n",
      "loss: 0.008570  [38400/60000]\n",
      "loss: 0.012727  [44800/60000]\n",
      "loss: 0.142129  [51200/60000]\n",
      "loss: 0.006623  [57600/60000]\n",
      "Test Error: \n",
      " Accuracy: 98.7%, Avg loss: 0.000790 \n",
      "\n",
      "Epoch 13\n",
      "-------------------------------\n",
      "loss: 0.000918  [    0/60000]\n",
      "loss: 0.001292  [ 6400/60000]\n",
      "loss: 0.002971  [12800/60000]\n",
      "loss: 0.000740  [19200/60000]\n",
      "loss: 0.002763  [25600/60000]\n",
      "loss: 0.001078  [32000/60000]\n",
      "loss: 0.005916  [38400/60000]\n",
      "loss: 0.014109  [44800/60000]\n",
      "loss: 0.128658  [51200/60000]\n",
      "loss: 0.008123  [57600/60000]\n",
      "Test Error: \n",
      " Accuracy: 98.7%, Avg loss: 0.000790 \n",
      "\n",
      "Epoch 14\n",
      "-------------------------------\n",
      "loss: 0.001026  [    0/60000]\n",
      "loss: 0.000904  [ 6400/60000]\n",
      "loss: 0.002734  [12800/60000]\n",
      "loss: 0.000556  [19200/60000]\n",
      "loss: 0.002290  [25600/60000]\n",
      "loss: 0.000723  [32000/60000]\n",
      "loss: 0.003856  [38400/60000]\n",
      "loss: 0.014807  [44800/60000]\n",
      "loss: 0.120853  [51200/60000]\n",
      "loss: 0.009632  [57600/60000]\n",
      "Test Error: \n",
      " Accuracy: 98.8%, Avg loss: 0.000790 \n",
      "\n",
      "Epoch 15\n",
      "-------------------------------\n",
      "loss: 0.001021  [    0/60000]\n",
      "loss: 0.000680  [ 6400/60000]\n",
      "loss: 0.002427  [12800/60000]\n",
      "loss: 0.000419  [19200/60000]\n",
      "loss: 0.001651  [25600/60000]\n",
      "loss: 0.000562  [32000/60000]\n",
      "loss: 0.002838  [38400/60000]\n",
      "loss: 0.016492  [44800/60000]\n",
      "loss: 0.115455  [51200/60000]\n",
      "loss: 0.009067  [57600/60000]\n",
      "Test Error: \n",
      " Accuracy: 98.8%, Avg loss: 0.000794 \n",
      "\n",
      "Epoch 16\n",
      "-------------------------------\n",
      "loss: 0.000942  [    0/60000]\n",
      "loss: 0.000612  [ 6400/60000]\n",
      "loss: 0.001987  [12800/60000]\n",
      "loss: 0.000361  [19200/60000]\n",
      "loss: 0.001450  [25600/60000]\n",
      "loss: 0.000447  [32000/60000]\n",
      "loss: 0.002145  [38400/60000]\n",
      "loss: 0.016954  [44800/60000]\n",
      "loss: 0.110260  [51200/60000]\n",
      "loss: 0.009406  [57600/60000]\n",
      "Test Error: \n",
      " Accuracy: 98.8%, Avg loss: 0.000798 \n",
      "\n",
      "Epoch 17\n",
      "-------------------------------\n",
      "loss: 0.000889  [    0/60000]\n",
      "loss: 0.000529  [ 6400/60000]\n",
      "loss: 0.001544  [12800/60000]\n",
      "loss: 0.000315  [19200/60000]\n",
      "loss: 0.001009  [25600/60000]\n",
      "loss: 0.000366  [32000/60000]\n",
      "loss: 0.001640  [38400/60000]\n",
      "loss: 0.016461  [44800/60000]\n",
      "loss: 0.103011  [51200/60000]\n",
      "loss: 0.009359  [57600/60000]\n",
      "Test Error: \n",
      " Accuracy: 98.8%, Avg loss: 0.000805 \n",
      "\n",
      "Epoch 18\n",
      "-------------------------------\n",
      "loss: 0.000855  [    0/60000]\n",
      "loss: 0.000533  [ 6400/60000]\n",
      "loss: 0.001188  [12800/60000]\n",
      "loss: 0.000294  [19200/60000]\n",
      "loss: 0.000726  [25600/60000]\n",
      "loss: 0.000290  [32000/60000]\n",
      "loss: 0.001332  [38400/60000]\n",
      "loss: 0.014109  [44800/60000]\n",
      "loss: 0.095012  [51200/60000]\n",
      "loss: 0.009589  [57600/60000]\n",
      "Test Error: \n",
      " Accuracy: 98.8%, Avg loss: 0.000810 \n",
      "\n",
      "Epoch 19\n",
      "-------------------------------\n",
      "loss: 0.000751  [    0/60000]\n",
      "loss: 0.000522  [ 6400/60000]\n",
      "loss: 0.001002  [12800/60000]\n",
      "loss: 0.000277  [19200/60000]\n",
      "loss: 0.000544  [25600/60000]\n",
      "loss: 0.000244  [32000/60000]\n",
      "loss: 0.001138  [38400/60000]\n",
      "loss: 0.014185  [44800/60000]\n",
      "loss: 0.086998  [51200/60000]\n",
      "loss: 0.008470  [57600/60000]\n",
      "Test Error: \n",
      " Accuracy: 98.8%, Avg loss: 0.000817 \n",
      "\n",
      "Epoch 20\n",
      "-------------------------------\n",
      "loss: 0.000699  [    0/60000]\n",
      "loss: 0.000515  [ 6400/60000]\n",
      "loss: 0.000824  [12800/60000]\n",
      "loss: 0.000255  [19200/60000]\n",
      "loss: 0.000379  [25600/60000]\n",
      "loss: 0.000211  [32000/60000]\n",
      "loss: 0.001025  [38400/60000]\n",
      "loss: 0.012794  [44800/60000]\n",
      "loss: 0.080654  [51200/60000]\n",
      "loss: 0.008012  [57600/60000]\n",
      "Test Error: \n",
      " Accuracy: 98.7%, Avg loss: 0.000827 \n",
      "\n",
      "Done!\n"
     ]
    }
   ],
   "source": [
    "train_losses = []\n",
    "test_losses = []\n",
    "\n",
    "def train(dataloader, model, loss_fn, optimizer):\n",
    "    size = len(dataloader.dataset)\n",
    "    for batch, (X, y) in enumerate(dataloader):\n",
    "        X, y = X.to(device), y.to(device)\n",
    "\n",
    "        # Compute prediction error\n",
    "        pred = model(X)\n",
    "        loss = loss_fn(pred, y)\n",
    "\n",
    "        # Backpropagation\n",
    "        optimizer.zero_grad()\n",
    "        loss.backward()\n",
    "        optimizer.step()\n",
    "\n",
    "        if batch % 100 == 0:\n",
    "            loss, current = loss.item(), batch * len(X)\n",
    "            print(f\"loss: {loss:>7f}  [{current:>5d}/{size:>5d}]\")\n",
    "            train_losses.append(loss)\n",
    "\n",
    "def test(dataloader, model):\n",
    "    size = len(dataloader.dataset)\n",
    "    model.eval()\n",
    "    test_loss, correct = 0, 0\n",
    "    with torch.no_grad():\n",
    "        for X, y in dataloader:\n",
    "            X, y = X.to(device), y.to(device)\n",
    "            pred = model(X)\n",
    "            test_loss += loss_fn(pred, y).item()\n",
    "            correct += (pred.argmax(1) == y).type(torch.float).sum().item()\n",
    "    test_loss /= size\n",
    "    correct /= size\n",
    "    test_losses.append(test_loss)\n",
    "    print(f\"Test Error: \\n Accuracy: {(100*correct):>0.1f}%, Avg loss: {test_loss:>8f} \\n\")\n",
    "\n",
    "epochs = 20\n",
    "for t in range(epochs):\n",
    "    print(f\"Epoch {t+1}\\n-------------------------------\")\n",
    "    train(train_dataloader, model, loss_fn, optimizer)\n",
    "    test(test_dataloader, model)\n",
    "    scheduler.step()\n",
    "print(\"Done!\")"
   ]
  },
  {
   "cell_type": "markdown",
   "metadata": {
    "id": "MajI7A-Zr1Qq"
   },
   "source": [
    "Generate learning curves for the validation and training set. Discuss whether this base-\n",
    "line system overfits, underfits or reasonably fits the validation data. Test this baseline system with\n",
    "the testing data and report the accuracy and show a confusion matrix"
   ]
  },
  {
   "cell_type": "code",
   "execution_count": 102,
   "metadata": {
    "colab": {
     "base_uri": "https://localhost:8080/",
     "height": 527
    },
    "id": "xakDhfNcnUqi",
    "outputId": "4e165618-4287-45fc-d9b8-0fc2dfef92ad"
   },
   "outputs": [
    {
     "data": {
      "image/png": "[encoded data removed]",
      "text/plain": [
       "<Figure size 432x288 with 1 Axes>"
      ]
     },
     "metadata": {
      "needs_background": "light",
      "tags": []
     },
     "output_type": "display_data"
    },
    {
     "data": {
      "image/png": "[encoded data removed]",
      "text/plain": [
       "<Figure size 432x288 with 1 Axes>"
      ]
     },
     "metadata": {
      "needs_background": "light",
      "tags": []
     },
     "output_type": "display_data"
    }
   ],
   "source": [
    "plt.plot(train_losses)\n",
    "plt.ylabel('Training loss')\n",
    "plt.show()\n",
    "\n",
    "plt.plot(test_losses)\n",
    "plt.ylabel('Testing loss')\n",
    "plt.xlabel('epoch')\n",
    "plt.show()"
   ]
  },
  {
   "cell_type": "markdown",
   "metadata": {
    "id": "hv_BSr_ArlG-"
   },
   "source": [
    "Looks like this model fits pretty well to the testing data. Near the end of the epochs, it looks like some sort of overfitting is going on, since the tseting loss starts increasing a bit near the end, but overall this looks like a pretty good fit to the data!\n",
    "\n",
    "Accuracy reaches 98.7% on the testing data!"
   ]
  }
 ],
 "metadata": {
  "accelerator": "GPU",
  "colab": {
   "name": "baseline.ipynb",
   "provenance": []
  },
  "kernelspec": {
   "display_name": "Python 3",
   "language": "python",
   "name": "python3"
  },
  "language_info": {
   "codemirror_mode": {
    "name": "ipython",
    "version": 3
   },
   "file_extension": ".py",
   "mimetype": "text/x-python",
   "name": "python",
   "nbconvert_exporter": "python",
   "pygments_lexer": "ipython3",
   "version": "3.8.5"
  }
 },
 "nbformat": 4,
 "nbformat_minor": 1
}
